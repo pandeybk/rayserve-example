{
 "cells": [
  {
   "cell_type": "markdown",
   "id": "2474bf3e-9b22-485b-a03b-9341e715ac93",
   "metadata": {
    "tags": []
   },
   "source": [
    "## Execute this code in terminal \n",
    "```\n",
    "serve run serve_quickstart:translator_app\n",
    "```"
   ]
  },
  {
   "cell_type": "code",
   "execution_count": 6,
   "id": "c370b6d6-93fd-4a55-8eec-378863e759ef",
   "metadata": {
    "tags": []
   },
   "outputs": [
    {
     "name": "stdout",
     "output_type": "stream",
     "text": [
      "Bonjour monde!\n"
     ]
    }
   ],
   "source": [
    "# File name: model_client.py\n",
    "import requests\n",
    "\n",
    "english_text = \"Hello world!\"\n",
    "\n",
    "response = requests.post(\"http://127.0.0.1:8000/\", json=english_text)\n",
    "french_text = response.text\n",
    "\n",
    "print(french_text)"
   ]
  }
 ],
 "metadata": {
  "kernelspec": {
   "display_name": "Python 3.9",
   "language": "python",
   "name": "python3"
  },
  "language_info": {
   "codemirror_mode": {
    "name": "ipython",
    "version": 3
   },
   "file_extension": ".py",
   "mimetype": "text/x-python",
   "name": "python",
   "nbconvert_exporter": "python",
   "pygments_lexer": "ipython3",
   "version": "3.9.16"
  }
 },
 "nbformat": 4,
 "nbformat_minor": 5
}
