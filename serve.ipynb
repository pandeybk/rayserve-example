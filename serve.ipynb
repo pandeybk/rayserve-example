{
 "cells": [
  {
   "cell_type": "code",
   "execution_count": 1,
   "id": "b3c759fe-0278-4365-87f5-e5188014a5e6",
   "metadata": {
    "tags": []
   },
   "outputs": [
    {
     "name": "stdout",
     "output_type": "stream",
     "text": [
      "Requirement already satisfied: ray[serve] in /opt/app-root/lib/python3.9/site-packages (2.20.0)\n",
      "Requirement already satisfied: click>=7.0 in /opt/app-root/lib/python3.9/site-packages (from ray[serve]) (8.1.7)\n",
      "Requirement already satisfied: frozenlist in /opt/app-root/lib/python3.9/site-packages (from ray[serve]) (1.4.1)\n",
      "Requirement already satisfied: requests in /opt/app-root/lib/python3.9/site-packages (from ray[serve]) (2.32.3)\n",
      "Requirement already satisfied: pyyaml in /opt/app-root/lib/python3.9/site-packages (from ray[serve]) (6.0.1)\n",
      "Requirement already satisfied: msgpack<2.0.0,>=1.0.0 in /opt/app-root/lib/python3.9/site-packages (from ray[serve]) (1.0.8)\n",
      "Requirement already satisfied: filelock in /opt/app-root/lib/python3.9/site-packages (from ray[serve]) (3.15.4)\n",
      "Requirement already satisfied: aiosignal in /opt/app-root/lib/python3.9/site-packages (from ray[serve]) (1.3.1)\n",
      "Requirement already satisfied: packaging in /opt/app-root/lib/python3.9/site-packages (from ray[serve]) (24.1)\n",
      "Requirement already satisfied: protobuf!=3.19.5,>=3.15.3 in /opt/app-root/lib/python3.9/site-packages (from ray[serve]) (4.25.3)\n",
      "Requirement already satisfied: jsonschema in /opt/app-root/lib/python3.9/site-packages (from ray[serve]) (4.22.0)\n",
      "Requirement already satisfied: virtualenv!=20.21.1,>=20.0.24 in /opt/app-root/lib/python3.9/site-packages (from ray[serve]) (20.26.3)\n",
      "Requirement already satisfied: prometheus-client>=0.7.1 in /opt/app-root/lib/python3.9/site-packages (from ray[serve]) (0.20.0)\n",
      "Requirement already satisfied: memray in /opt/app-root/lib/python3.9/site-packages (from ray[serve]) (1.10.0)\n",
      "Requirement already satisfied: grpcio>=1.32.0 in /opt/app-root/lib/python3.9/site-packages (from ray[serve]) (1.64.1)\n",
      "Collecting uvicorn[standard]\n",
      "  Downloading uvicorn-0.30.1-py3-none-any.whl (62 kB)\n",
      "\u001b[2K     \u001b[90m━━━━━━━━━━━━━━━━━━━━━━━━━━━━━━━━━━━━━━━━\u001b[0m \u001b[32m62.4/62.4 kB\u001b[0m \u001b[31m5.7 MB/s\u001b[0m eta \u001b[36m0:00:00\u001b[0m\n",
      "\u001b[?25hRequirement already satisfied: colorful in /opt/app-root/lib/python3.9/site-packages (from ray[serve]) (0.5.6)\n",
      "Requirement already satisfied: opencensus in /opt/app-root/lib/python3.9/site-packages (from ray[serve]) (0.11.4)\n",
      "Requirement already satisfied: py-spy>=0.2.0 in /opt/app-root/lib/python3.9/site-packages (from ray[serve]) (0.3.14)\n",
      "Requirement already satisfied: aiohttp>=3.7 in /opt/app-root/lib/python3.9/site-packages (from ray[serve]) (3.9.5)\n",
      "Requirement already satisfied: aiohttp-cors in /opt/app-root/lib/python3.9/site-packages (from ray[serve]) (0.7.0)\n",
      "Requirement already satisfied: pydantic!=2.0.*,!=2.1.*,!=2.2.*,!=2.3.*,!=2.4.*,<3 in /opt/app-root/lib/python3.9/site-packages (from ray[serve]) (1.10.17)\n",
      "Collecting starlette\n",
      "  Downloading starlette-0.37.2-py3-none-any.whl (71 kB)\n",
      "\u001b[2K     \u001b[90m━━━━━━━━━━━━━━━━━━━━━━━━━━━━━━━━━━━━━━━━\u001b[0m \u001b[32m71.9/71.9 kB\u001b[0m \u001b[31m61.7 MB/s\u001b[0m eta \u001b[36m0:00:00\u001b[0m\n",
      "\u001b[?25hCollecting fastapi\n",
      "  Downloading fastapi-0.111.1-py3-none-any.whl (92 kB)\n",
      "\u001b[2K     \u001b[90m━━━━━━━━━━━━━━━━━━━━━━━━━━━━━━━━━━━━━━━\u001b[0m \u001b[32m92.2/92.2 kB\u001b[0m \u001b[31m234.0 MB/s\u001b[0m eta \u001b[36m0:00:00\u001b[0m\n",
      "\u001b[?25hCollecting watchfiles\n",
      "  Downloading watchfiles-0.22.0-cp39-cp39-manylinux_2_17_x86_64.manylinux2014_x86_64.whl (1.2 MB)\n",
      "\u001b[2K     \u001b[90m━━━━━━━━━━━━━━━━━━━━━━━━━━━━━━━━━━━━━━━━\u001b[0m \u001b[32m1.2/1.2 MB\u001b[0m \u001b[31m31.0 MB/s\u001b[0m eta \u001b[36m0:00:00\u001b[0ma \u001b[36m0:00:01\u001b[0m\n",
      "\u001b[?25hRequirement already satisfied: smart-open in /opt/app-root/lib/python3.9/site-packages (from ray[serve]) (7.0.4)\n",
      "Requirement already satisfied: yarl<2.0,>=1.0 in /opt/app-root/lib/python3.9/site-packages (from aiohttp>=3.7->ray[serve]) (1.9.4)\n",
      "Requirement already satisfied: attrs>=17.3.0 in /opt/app-root/lib/python3.9/site-packages (from aiohttp>=3.7->ray[serve]) (23.2.0)\n",
      "Requirement already satisfied: multidict<7.0,>=4.5 in /opt/app-root/lib/python3.9/site-packages (from aiohttp>=3.7->ray[serve]) (6.0.5)\n",
      "Requirement already satisfied: async-timeout<5.0,>=4.0 in /opt/app-root/lib/python3.9/site-packages (from aiohttp>=3.7->ray[serve]) (4.0.3)\n",
      "Requirement already satisfied: typing-extensions>=4.2.0 in /opt/app-root/lib/python3.9/site-packages (from pydantic!=2.0.*,!=2.1.*,!=2.2.*,!=2.3.*,!=2.4.*,<3->ray[serve]) (4.12.2)\n",
      "Requirement already satisfied: platformdirs<5,>=3.9.1 in /opt/app-root/lib/python3.9/site-packages (from virtualenv!=20.21.1,>=20.0.24->ray[serve]) (4.2.2)\n",
      "Requirement already satisfied: distlib<1,>=0.3.7 in /opt/app-root/lib/python3.9/site-packages (from virtualenv!=20.21.1,>=20.0.24->ray[serve]) (0.3.8)\n",
      "Collecting fastapi-cli>=0.0.2\n",
      "  Downloading fastapi_cli-0.0.4-py3-none-any.whl (9.5 kB)\n",
      "Collecting httpx>=0.23.0\n",
      "  Downloading httpx-0.27.0-py3-none-any.whl (75 kB)\n",
      "\u001b[2K     \u001b[90m━━━━━━━━━━━━━━━━━━━━━━━━━━━━━━━━━━━━━━━\u001b[0m \u001b[32m75.6/75.6 kB\u001b[0m \u001b[31m299.9 MB/s\u001b[0m eta \u001b[36m0:00:00\u001b[0m\n",
      "\u001b[?25hCollecting python-multipart>=0.0.7\n",
      "  Downloading python_multipart-0.0.9-py3-none-any.whl (22 kB)\n",
      "Collecting email_validator>=2.0.0\n",
      "  Downloading email_validator-2.2.0-py3-none-any.whl (33 kB)\n",
      "Requirement already satisfied: jinja2>=2.11.2 in /opt/app-root/lib/python3.9/site-packages (from fastapi->ray[serve]) (3.1.4)\n",
      "Requirement already satisfied: anyio<5,>=3.4.0 in /opt/app-root/lib/python3.9/site-packages (from starlette->ray[serve]) (4.4.0)\n",
      "Collecting h11>=0.8\n",
      "  Downloading h11-0.14.0-py3-none-any.whl (58 kB)\n",
      "\u001b[2K     \u001b[90m━━━━━━━━━━━━━━━━━━━━━━━━━━━━━━━━━━━━━━━\u001b[0m \u001b[32m58.3/58.3 kB\u001b[0m \u001b[31m182.9 MB/s\u001b[0m eta \u001b[36m0:00:00\u001b[0m\n",
      "\u001b[?25hCollecting websockets>=10.4\n",
      "  Downloading websockets-12.0-cp39-cp39-manylinux_2_5_x86_64.manylinux1_x86_64.manylinux_2_17_x86_64.manylinux2014_x86_64.whl (130 kB)\n",
      "\u001b[2K     \u001b[90m━━━━━━━━━━━━━━━━━━━━━━━━━━━━━━━━━━━━━\u001b[0m \u001b[32m130.0/130.0 kB\u001b[0m \u001b[31m362.6 MB/s\u001b[0m eta \u001b[36m0:00:00\u001b[0m\n",
      "\u001b[?25hCollecting httptools>=0.5.0\n",
      "  Downloading httptools-0.6.1-cp39-cp39-manylinux_2_5_x86_64.manylinux1_x86_64.manylinux_2_17_x86_64.manylinux2014_x86_64.whl (345 kB)\n",
      "\u001b[2K     \u001b[90m━━━━━━━━━━━━━━━━━━━━━━━━━━━━━━━━━━━━━━\u001b[0m \u001b[32m345.2/345.2 kB\u001b[0m \u001b[31m76.3 MB/s\u001b[0m eta \u001b[36m0:00:00\u001b[0m\n",
      "\u001b[?25hCollecting python-dotenv>=0.13\n",
      "  Downloading python_dotenv-1.0.1-py3-none-any.whl (19 kB)\n",
      "Collecting uvloop!=0.15.0,!=0.15.1,>=0.14.0\n",
      "  Downloading uvloop-0.19.0-cp39-cp39-manylinux_2_17_x86_64.manylinux2014_x86_64.whl (3.5 MB)\n",
      "\u001b[2K     \u001b[90m━━━━━━━━━━━━━━━━━━━━━━━━━━━━━━━━━━━━━━━━\u001b[0m \u001b[32m3.5/3.5 MB\u001b[0m \u001b[31m25.2 MB/s\u001b[0m eta \u001b[36m0:00:00\u001b[0ma \u001b[36m0:00:01\u001b[0m\n",
      "\u001b[?25hRequirement already satisfied: referencing>=0.28.4 in /opt/app-root/lib/python3.9/site-packages (from jsonschema->ray[serve]) (0.35.1)\n",
      "Requirement already satisfied: jsonschema-specifications>=2023.03.6 in /opt/app-root/lib/python3.9/site-packages (from jsonschema->ray[serve]) (2023.12.1)\n",
      "Requirement already satisfied: rpds-py>=0.7.1 in /opt/app-root/lib/python3.9/site-packages (from jsonschema->ray[serve]) (0.18.1)\n",
      "Requirement already satisfied: rich>=11.2.0 in /opt/app-root/lib/python3.9/site-packages (from memray->ray[serve]) (12.6.0)\n",
      "Requirement already satisfied: google-api-core<3.0.0,>=1.0.0 in /opt/app-root/lib/python3.9/site-packages (from opencensus->ray[serve]) (2.19.1)\n",
      "Requirement already satisfied: opencensus-context>=0.1.3 in /opt/app-root/lib/python3.9/site-packages (from opencensus->ray[serve]) (0.1.3)\n",
      "Requirement already satisfied: six~=1.16 in /opt/app-root/lib/python3.9/site-packages (from opencensus->ray[serve]) (1.16.0)\n",
      "Requirement already satisfied: certifi>=2017.4.17 in /opt/app-root/lib/python3.9/site-packages (from requests->ray[serve]) (2024.6.2)\n",
      "Requirement already satisfied: idna<4,>=2.5 in /opt/app-root/lib/python3.9/site-packages (from requests->ray[serve]) (3.7)\n",
      "Requirement already satisfied: charset-normalizer<4,>=2 in /opt/app-root/lib/python3.9/site-packages (from requests->ray[serve]) (3.3.2)\n",
      "Requirement already satisfied: urllib3<3,>=1.21.1 in /opt/app-root/lib/python3.9/site-packages (from requests->ray[serve]) (1.26.19)\n",
      "Requirement already satisfied: wrapt in /opt/app-root/lib/python3.9/site-packages (from smart-open->ray[serve]) (1.16.0)\n",
      "Requirement already satisfied: exceptiongroup>=1.0.2 in /opt/app-root/lib/python3.9/site-packages (from anyio<5,>=3.4.0->starlette->ray[serve]) (1.2.1)\n",
      "Requirement already satisfied: sniffio>=1.1 in /opt/app-root/lib/python3.9/site-packages (from anyio<5,>=3.4.0->starlette->ray[serve]) (1.3.1)\n",
      "Requirement already satisfied: dnspython>=2.0.0 in /opt/app-root/lib/python3.9/site-packages (from email_validator>=2.0.0->fastapi->ray[serve]) (2.6.1)\n",
      "Collecting typer>=0.12.3\n",
      "  Downloading typer-0.12.3-py3-none-any.whl (47 kB)\n",
      "\u001b[2K     \u001b[90m━━━━━━━━━━━━━━━━━━━━━━━━━━━━━━━━━━━━━━━\u001b[0m \u001b[32m47.2/47.2 kB\u001b[0m \u001b[31m224.2 MB/s\u001b[0m eta \u001b[36m0:00:00\u001b[0m\n",
      "\u001b[?25hRequirement already satisfied: proto-plus<2.0.0dev,>=1.22.3 in /opt/app-root/lib/python3.9/site-packages (from google-api-core<3.0.0,>=1.0.0->opencensus->ray[serve]) (1.24.0)\n",
      "Requirement already satisfied: google-auth<3.0.dev0,>=2.14.1 in /opt/app-root/lib/python3.9/site-packages (from google-api-core<3.0.0,>=1.0.0->opencensus->ray[serve]) (2.30.0)\n",
      "Requirement already satisfied: googleapis-common-protos<2.0.dev0,>=1.56.2 in /opt/app-root/lib/python3.9/site-packages (from google-api-core<3.0.0,>=1.0.0->opencensus->ray[serve]) (1.63.2)\n",
      "Collecting httpcore==1.*\n",
      "  Downloading httpcore-1.0.5-py3-none-any.whl (77 kB)\n",
      "\u001b[2K     \u001b[90m━━━━━━━━━━━━━━━━━━━━━━━━━━━━━━━━━━━━━━━\u001b[0m \u001b[32m77.9/77.9 kB\u001b[0m \u001b[31m220.8 MB/s\u001b[0m eta \u001b[36m0:00:00\u001b[0m\n",
      "\u001b[?25hRequirement already satisfied: MarkupSafe>=2.0 in /opt/app-root/lib/python3.9/site-packages (from jinja2>=2.11.2->fastapi->ray[serve]) (2.1.5)\n",
      "Requirement already satisfied: commonmark<0.10.0,>=0.9.0 in /opt/app-root/lib/python3.9/site-packages (from rich>=11.2.0->memray->ray[serve]) (0.9.1)\n",
      "Requirement already satisfied: pygments<3.0.0,>=2.6.0 in /opt/app-root/lib/python3.9/site-packages (from rich>=11.2.0->memray->ray[serve]) (2.18.0)\n",
      "Requirement already satisfied: pyasn1-modules>=0.2.1 in /opt/app-root/lib/python3.9/site-packages (from google-auth<3.0.dev0,>=2.14.1->google-api-core<3.0.0,>=1.0.0->opencensus->ray[serve]) (0.4.0)\n",
      "Requirement already satisfied: cachetools<6.0,>=2.0.0 in /opt/app-root/lib/python3.9/site-packages (from google-auth<3.0.dev0,>=2.14.1->google-api-core<3.0.0,>=1.0.0->opencensus->ray[serve]) (5.3.3)\n",
      "Requirement already satisfied: rsa<5,>=3.1.4 in /opt/app-root/lib/python3.9/site-packages (from google-auth<3.0.dev0,>=2.14.1->google-api-core<3.0.0,>=1.0.0->opencensus->ray[serve]) (4.9)\n",
      "Collecting shellingham>=1.3.0\n",
      "  Downloading shellingham-1.5.4-py2.py3-none-any.whl (9.8 kB)\n",
      "Requirement already satisfied: pyasn1<0.7.0,>=0.4.6 in /opt/app-root/lib/python3.9/site-packages (from pyasn1-modules>=0.2.1->google-auth<3.0.dev0,>=2.14.1->google-api-core<3.0.0,>=1.0.0->opencensus->ray[serve]) (0.6.0)\n",
      "Installing collected packages: websockets, uvloop, shellingham, python-multipart, python-dotenv, httptools, h11, email_validator, watchfiles, uvicorn, typer, starlette, httpcore, httpx, fastapi-cli, fastapi\n",
      "Successfully installed email_validator-2.2.0 fastapi-0.111.1 fastapi-cli-0.0.4 h11-0.14.0 httpcore-1.0.5 httptools-0.6.1 httpx-0.27.0 python-dotenv-1.0.1 python-multipart-0.0.9 shellingham-1.5.4 starlette-0.37.2 typer-0.12.3 uvicorn-0.30.1 uvloop-0.19.0 watchfiles-0.22.0 websockets-12.0\n",
      "\n",
      "\u001b[1m[\u001b[0m\u001b[34;49mnotice\u001b[0m\u001b[1;39;49m]\u001b[0m\u001b[39;49m A new release of pip available: \u001b[0m\u001b[31;49m22.2.2\u001b[0m\u001b[39;49m -> \u001b[0m\u001b[32;49m24.1.2\u001b[0m\n",
      "\u001b[1m[\u001b[0m\u001b[34;49mnotice\u001b[0m\u001b[1;39;49m]\u001b[0m\u001b[39;49m To update, run: \u001b[0m\u001b[32;49mpip install --upgrade pip\u001b[0m\n"
     ]
    }
   ],
   "source": [
    "!pip install \"ray[serve]\"\n"
   ]
  },
  {
   "cell_type": "code",
   "execution_count": 2,
   "id": "9a2c1d1a-e74d-448e-a172-022dee1e156b",
   "metadata": {
    "tags": []
   },
   "outputs": [
    {
     "name": "stderr",
     "output_type": "stream",
     "text": [
      "2024-07-17 22:11:24,771\tINFO worker.py:1740 -- Started a local Ray instance. View the dashboard at \u001b[1m\u001b[32m127.0.0.1:8265 \u001b[39m\u001b[22m\n",
      "\u001b[36m(ProxyActor pid=4405)\u001b[0m INFO 2024-07-17 22:11:27,820 proxy 10.131.1.234 proxy.py:1161 - Proxy starting on node 1d159e393ff36cd06c29f7a992d293b0e1b22d8592cafbdf1ca3a708 (HTTP port: 8000).\n",
      "2024-07-17 22:11:27,869\tINFO handle.py:126 -- Created DeploymentHandle '7zrm8vwb' for Deployment(name='MyModelDeployment', app='default').\n",
      "2024-07-17 22:11:27,871\tINFO handle.py:126 -- Created DeploymentHandle '82hg4kvk' for Deployment(name='MyModelDeployment', app='default').\n",
      "\u001b[36m(ServeController pid=4331)\u001b[0m INFO 2024-07-17 22:11:27,930 controller 4331 deployment_state.py:1596 - Deploying new version of Deployment(name='MyModelDeployment', app='default') (initial target replicas: 1).\n",
      "\u001b[36m(ServeController pid=4331)\u001b[0m INFO 2024-07-17 22:11:28,038 controller 4331 deployment_state.py:1842 - Adding 1 replica to Deployment(name='MyModelDeployment', app='default').\n",
      "2024-07-17 22:11:29,908\tINFO handle.py:126 -- Created DeploymentHandle 'ed30z8lu' for Deployment(name='MyModelDeployment', app='default').\n",
      "2024-07-17 22:11:29,911\tINFO api.py:584 -- Deployed app 'default' successfully.\n"
     ]
    },
    {
     "name": "stdout",
     "output_type": "stream",
     "text": [
      "{'result': 'Hello world!'}\n"
     ]
    },
    {
     "name": "stderr",
     "output_type": "stream",
     "text": [
      "\u001b[36m(ServeReplica:default:MyModelDeployment pid=4475)\u001b[0m INFO 2024-07-17 22:11:29,974 default_MyModelDeployment 31oy7dey 7aa732d2-fa9a-437d-bf77-24bc3dd67799 / replica.py:373 - __CALL__ OK 4.4ms\n",
      "\u001b[36m(ServeController pid=4331)\u001b[0m INFO 2024-07-17 22:13:11,025 controller 4331 deployment_state.py:1596 - Deploying new version of Deployment(name='SentimentAnalysisDeployment', app='default') (initial target replicas: 1).\n",
      "\u001b[36m(ServeController pid=4331)\u001b[0m INFO 2024-07-17 22:13:11,136 controller 4331 deployment_state.py:1858 - Removing 1 replica from Deployment(name='MyModelDeployment', app='default').\n",
      "\u001b[36m(ServeController pid=4331)\u001b[0m INFO 2024-07-17 22:13:11,136 controller 4331 deployment_state.py:1842 - Adding 1 replica to Deployment(name='SentimentAnalysisDeployment', app='default').\n",
      "\u001b[36m(ServeController pid=4331)\u001b[0m INFO 2024-07-17 22:13:13,216 controller 4331 deployment_state.py:2180 - Replica(id='31oy7dey', deployment='MyModelDeployment', app='default') is stopped.\n",
      "\u001b[36m(ServeReplica:default:SentimentAnalysisDeployment pid=5184)\u001b[0m No model was supplied, defaulted to distilbert/distilbert-base-uncased-finetuned-sst-2-english and revision af0f99b (https://huggingface.co/distilbert/distilbert-base-uncased-finetuned-sst-2-english).\n",
      "\u001b[36m(ServeReplica:default:SentimentAnalysisDeployment pid=5184)\u001b[0m Using a pipeline without specifying a model name and revision in production is not recommended.\n",
      "\u001b[36m(ServeReplica:default:SentimentAnalysisDeployment pid=5184)\u001b[0m INFO 2024-07-17 22:13:23,205 default_SentimentAnalysisDeployment h79g9wc1 396e8ca8-2e04-4449-a0d8-dac88b42a9a1 / replica.py:373 - __CALL__ OK 84.2ms\n",
      "\u001b[36m(ServeReplica:default:SentimentAnalysisDeployment pid=5184)\u001b[0m ERROR 2024-07-17 22:18:18,089 default_SentimentAnalysisDeployment h79g9wc1 f2ea4f7e-a66e-47dc-87b2-739b5768b6bb / replica.py:359 - Request failed:\n",
      "\u001b[36m(ServeReplica:default:SentimentAnalysisDeployment pid=5184)\u001b[0m \u001b[36mray::ServeReplica:default:SentimentAnalysisDeployment.handle_request_with_rejection()\u001b[39m (pid=5184, ip=10.131.1.234)\n",
      "\u001b[36m(ServeReplica:default:SentimentAnalysisDeployment pid=5184)\u001b[0m   File \"/opt/app-root/lib64/python3.9/site-packages/ray/serve/_private/utils.py\", line 168, in wrap_to_ray_error\n",
      "\u001b[36m(ServeReplica:default:SentimentAnalysisDeployment pid=5184)\u001b[0m     raise exception\n",
      "\u001b[36m(ServeReplica:default:SentimentAnalysisDeployment pid=5184)\u001b[0m   File \"/opt/app-root/lib64/python3.9/site-packages/ray/serve/_private/replica.py\", line 1132, in call_user_method\n",
      "\u001b[36m(ServeReplica:default:SentimentAnalysisDeployment pid=5184)\u001b[0m     await self._call_func_or_gen(\n",
      "\u001b[36m(ServeReplica:default:SentimentAnalysisDeployment pid=5184)\u001b[0m   File \"/opt/app-root/lib64/python3.9/site-packages/ray/serve/_private/replica.py\", line 854, in _call_func_or_gen\n",
      "\u001b[36m(ServeReplica:default:SentimentAnalysisDeployment pid=5184)\u001b[0m     result = callable(*args, **kwargs)\n",
      "\u001b[36m(ServeReplica:default:SentimentAnalysisDeployment pid=5184)\u001b[0m   File \"/tmp/ipykernel_2275/2028677790.py\", line 17, in __call__\n",
      "\u001b[36m(ServeReplica:default:SentimentAnalysisDeployment pid=5184)\u001b[0m   File \"/opt/app-root/lib64/python3.9/site-packages/starlette/datastructures.py\", line 305, in __getitem__\n",
      "\u001b[36m(ServeReplica:default:SentimentAnalysisDeployment pid=5184)\u001b[0m     return self._dict[key]\n",
      "\u001b[36m(ServeReplica:default:SentimentAnalysisDeployment pid=5184)\u001b[0m KeyError: 'text'\n",
      "\u001b[36m(ServeReplica:default:SentimentAnalysisDeployment pid=5184)\u001b[0m INFO 2024-07-17 22:18:18,090 default_SentimentAnalysisDeployment h79g9wc1 f2ea4f7e-a66e-47dc-87b2-739b5768b6bb / replica.py:373 - __CALL__ ERROR 9.8ms\n"
     ]
    }
   ],
   "source": [
    "import requests\n",
    "from starlette.requests import Request\n",
    "from typing import Dict\n",
    "\n",
    "from ray import serve\n",
    "\n",
    "\n",
    "# 1: Define a Ray Serve application.\n",
    "@serve.deployment\n",
    "class MyModelDeployment:\n",
    "    def __init__(self, msg: str):\n",
    "        # Initialize model state: could be very large neural net weights.\n",
    "        self._msg = msg\n",
    "\n",
    "    def __call__(self, request: Request) -> Dict:\n",
    "        return {\"result\": self._msg}\n",
    "\n",
    "\n",
    "app = MyModelDeployment.bind(msg=\"Hello world!\")\n",
    "\n",
    "# 2: Deploy the application locally.\n",
    "serve.run(app, route_prefix=\"/\")\n",
    "\n",
    "# 3: Query the application and print the result.\n",
    "print(requests.get(\"http://localhost:8000/\").json())\n",
    "# {'result': 'Hello world!'}"
   ]
  },
  {
   "cell_type": "code",
   "execution_count": 4,
   "id": "1b5d0944-f5f2-4630-8573-d6249c51430c",
   "metadata": {
    "tags": []
   },
   "outputs": [
    {
     "name": "stdout",
     "output_type": "stream",
     "text": [
      "Collecting transformers\n",
      "  Downloading transformers-4.42.4-py3-none-any.whl (9.3 MB)\n",
      "\u001b[2K     \u001b[90m━━━━━━━━━━━━━━━━━━━━━━━━━━━━━━━━━━━━━━━━\u001b[0m \u001b[32m9.3/9.3 MB\u001b[0m \u001b[31m23.0 MB/s\u001b[0m eta \u001b[36m0:00:00\u001b[0ma \u001b[36m0:00:01\u001b[0m\n",
      "\u001b[?25hCollecting huggingface-hub<1.0,>=0.23.2\n",
      "  Downloading huggingface_hub-0.23.5-py3-none-any.whl (402 kB)\n",
      "\u001b[2K     \u001b[90m━━━━━━━━━━━━━━━━━━━━━━━━━━━━━━━━━━━━━━\u001b[0m \u001b[32m402.8/402.8 kB\u001b[0m \u001b[31m55.0 MB/s\u001b[0m eta \u001b[36m0:00:00\u001b[0m\n",
      "\u001b[?25hRequirement already satisfied: numpy<2.0,>=1.17 in /opt/app-root/lib/python3.9/site-packages (from transformers) (1.26.4)\n",
      "Collecting regex!=2019.12.17\n",
      "  Downloading regex-2024.5.15-cp39-cp39-manylinux_2_17_x86_64.manylinux2014_x86_64.whl (774 kB)\n",
      "\u001b[2K     \u001b[90m━━━━━━━━━━━━━━━━━━━━━━━━━━━━━━━━━━━━━━\u001b[0m \u001b[32m774.6/774.6 kB\u001b[0m \u001b[31m59.5 MB/s\u001b[0m eta \u001b[36m0:00:00\u001b[0m\n",
      "\u001b[?25hRequirement already satisfied: pyyaml>=5.1 in /opt/app-root/lib/python3.9/site-packages (from transformers) (6.0.1)\n",
      "Requirement already satisfied: requests in /opt/app-root/lib/python3.9/site-packages (from transformers) (2.32.3)\n",
      "Collecting safetensors>=0.4.1\n",
      "  Downloading safetensors-0.4.3-cp39-cp39-manylinux_2_17_x86_64.manylinux2014_x86_64.whl (1.2 MB)\n",
      "\u001b[2K     \u001b[90m━━━━━━━━━━━━━━━━━━━━━━━━━━━━━━━━━━━━━━━━\u001b[0m \u001b[32m1.2/1.2 MB\u001b[0m \u001b[31m51.1 MB/s\u001b[0m eta \u001b[36m0:00:00\u001b[0m\n",
      "\u001b[?25hRequirement already satisfied: packaging>=20.0 in /opt/app-root/lib/python3.9/site-packages (from transformers) (24.1)\n",
      "Requirement already satisfied: filelock in /opt/app-root/lib/python3.9/site-packages (from transformers) (3.15.4)\n",
      "Collecting tokenizers<0.20,>=0.19\n",
      "  Downloading tokenizers-0.19.1-cp39-cp39-manylinux_2_17_x86_64.manylinux2014_x86_64.whl (3.6 MB)\n",
      "\u001b[2K     \u001b[90m━━━━━━━━━━━━━━━━━━━━━━━━━━━━━━━━━━━━━━━━\u001b[0m \u001b[32m3.6/3.6 MB\u001b[0m \u001b[31m46.9 MB/s\u001b[0m eta \u001b[36m0:00:00\u001b[0ma \u001b[36m0:00:01\u001b[0m\n",
      "\u001b[?25hRequirement already satisfied: tqdm>=4.27 in /opt/app-root/lib/python3.9/site-packages (from transformers) (4.66.4)\n",
      "Requirement already satisfied: fsspec>=2023.5.0 in /opt/app-root/lib/python3.9/site-packages (from huggingface-hub<1.0,>=0.23.2->transformers) (2024.6.1)\n",
      "Requirement already satisfied: typing-extensions>=3.7.4.3 in /opt/app-root/lib/python3.9/site-packages (from huggingface-hub<1.0,>=0.23.2->transformers) (4.12.2)\n",
      "Requirement already satisfied: certifi>=2017.4.17 in /opt/app-root/lib/python3.9/site-packages (from requests->transformers) (2024.6.2)\n",
      "Requirement already satisfied: charset-normalizer<4,>=2 in /opt/app-root/lib/python3.9/site-packages (from requests->transformers) (3.3.2)\n",
      "Requirement already satisfied: idna<4,>=2.5 in /opt/app-root/lib/python3.9/site-packages (from requests->transformers) (3.7)\n",
      "Requirement already satisfied: urllib3<3,>=1.21.1 in /opt/app-root/lib/python3.9/site-packages (from requests->transformers) (1.26.19)\n",
      "Installing collected packages: safetensors, regex, huggingface-hub, tokenizers, transformers\n",
      "Successfully installed huggingface-hub-0.23.5 regex-2024.5.15 safetensors-0.4.3 tokenizers-0.19.1 transformers-4.42.4\n",
      "\n",
      "\u001b[1m[\u001b[0m\u001b[34;49mnotice\u001b[0m\u001b[1;39;49m]\u001b[0m\u001b[39;49m A new release of pip available: \u001b[0m\u001b[31;49m22.2.2\u001b[0m\u001b[39;49m -> \u001b[0m\u001b[32;49m24.1.2\u001b[0m\n",
      "\u001b[1m[\u001b[0m\u001b[34;49mnotice\u001b[0m\u001b[1;39;49m]\u001b[0m\u001b[39;49m To update, run: \u001b[0m\u001b[32;49mpip install --upgrade pip\u001b[0m\n"
     ]
    }
   ],
   "source": [
    "!pip install transformers"
   ]
  },
  {
   "cell_type": "code",
   "execution_count": 5,
   "id": "138630b6-9dd5-4d2b-ad3f-6ac9b13d9bfa",
   "metadata": {
    "tags": []
   },
   "outputs": [
    {
     "name": "stderr",
     "output_type": "stream",
     "text": [
      "2024-07-17 22:13:10,936\tINFO handle.py:126 -- Created DeploymentHandle '6e9f1pzs' for Deployment(name='SentimentAnalysisDeployment', app='default').\n",
      "2024-07-17 22:13:10,939\tINFO handle.py:126 -- Created DeploymentHandle '59b1s2xm' for Deployment(name='SentimentAnalysisDeployment', app='default').\n",
      "2024-07-17 22:13:23,056\tINFO handle.py:126 -- Created DeploymentHandle '7382icyt' for Deployment(name='SentimentAnalysisDeployment', app='default').\n",
      "2024-07-17 22:13:23,058\tINFO api.py:584 -- Deployed app 'default' successfully.\n"
     ]
    },
    {
     "name": "stdout",
     "output_type": "stream",
     "text": [
      "{'label': 'POSITIVE', 'score': 0.9998476505279541}\n"
     ]
    }
   ],
   "source": [
    "import requests\n",
    "from starlette.requests import Request\n",
    "from typing import Dict\n",
    "\n",
    "from transformers import pipeline\n",
    "\n",
    "from ray import serve\n",
    "\n",
    "\n",
    "# 1: Wrap the pretrained sentiment analysis model in a Serve deployment.\n",
    "@serve.deployment\n",
    "class SentimentAnalysisDeployment:\n",
    "    def __init__(self):\n",
    "        self._model = pipeline(\"sentiment-analysis\")\n",
    "\n",
    "    def __call__(self, request: Request) -> Dict:\n",
    "        return self._model(request.query_params[\"text\"])[0]\n",
    "\n",
    "\n",
    "# 2: Deploy the deployment.\n",
    "serve.run(SentimentAnalysisDeployment.bind(), route_prefix=\"/\")\n",
    "\n",
    "# 3: Query the deployment and print the result.\n",
    "print(\n",
    "    requests.get(\n",
    "        \"http://localhost:8000/\", params={\"text\": \"Ray Serve is great!\"}\n",
    "    ).json()\n",
    ")\n",
    "# {'label': 'POSITIVE', 'score': 0.9998476505279541}"
   ]
  },
  {
   "cell_type": "code",
   "execution_count": 8,
   "id": "88495518-22fb-46d4-953d-6a4d129f857a",
   "metadata": {
    "tags": []
   },
   "outputs": [],
   "source": [
    "# File name: serve_quickstart.py\n",
    "from starlette.requests import Request\n",
    "\n",
    "import ray\n",
    "from ray import serve\n",
    "\n",
    "from transformers import pipeline\n",
    "\n",
    "\n",
    "@serve.deployment(num_replicas=2, ray_actor_options={\"num_cpus\": 0.2, \"num_gpus\": 0})\n",
    "class Translator:\n",
    "    def __init__(self):\n",
    "        # Load model\n",
    "        self.model = pipeline(\"translation_en_to_fr\", model=\"t5-small\")\n",
    "\n",
    "    def translate(self, text: str) -> str:\n",
    "        # Run inference\n",
    "        model_output = self.model(text)\n",
    "\n",
    "        # Post-process output to return only the translation text\n",
    "        translation = model_output[0][\"translation_text\"]\n",
    "\n",
    "        return translation\n",
    "\n",
    "    async def __call__(self, http_request: Request) -> str:\n",
    "        english_text: str = await http_request.json()\n",
    "        return self.translate(english_text)\n",
    "\n",
    "\n",
    "translator_app = Translator.bind()"
   ]
  },
  {
   "cell_type": "code",
   "execution_count": 12,
   "id": "c6cb3090-5e0c-4e03-9829-21997a11d821",
   "metadata": {
    "tags": []
   },
   "outputs": [
    {
     "name": "stdout",
     "output_type": "stream",
     "text": [
      "2024-07-17 22:18:28,750\tINFO scripts.py:499 -- Running import path: 'serve_quickstart:translator_app'.\n",
      "2024-07-17 22:18:35,033\tINFO worker.py:1740 -- Started a local Ray instance. View the dashboard at \u001b[1m\u001b[32m127.0.0.1:8266 \u001b[39m\u001b[22m\n",
      "[2024-07-17 22:18:36,216 E 7133 7133] core_worker.cc:234: Failed to register worker 01000000ffffffffffffffffffffffffffffffffffffffffffffffff to Raylet. IOError: [RayletClient] Unable to register worker with raylet. No such file or directory\n"
     ]
    },
    {
     "name": "stderr",
     "output_type": "stream",
     "text": [
      "*** SIGTERM received at time=1721255530 on cpu 8 ***\n",
      "PC: @     0x7f45405e983e  (unknown)  epoll_wait\n",
      "    @     0x7f45404efdf0  856854752  (unknown)\n",
      "    @     0x55df08260100  (unknown)  (unknown)\n",
      "[2024-07-17 22:32:10,261 E 2275 2275] logging.cc:365: *** SIGTERM received at time=1721255530 on cpu 8 ***\n",
      "[2024-07-17 22:32:10,261 E 2275 2275] logging.cc:365: PC: @     0x7f45405e983e  (unknown)  epoll_wait\n",
      "[2024-07-17 22:32:10,264 E 2275 2275] logging.cc:365:     @     0x7f45404efdf0  856854752  (unknown)\n",
      "[2024-07-17 22:32:10,267 E 2275 2275] logging.cc:365:     @     0x55df08260100  (unknown)  (unknown)\n"
     ]
    }
   ],
   "source": [
    "!serve run serve_quickstart:translator_app"
   ]
  },
  {
   "cell_type": "code",
   "execution_count": 11,
   "id": "4900fd3f-729d-41bd-b2c7-877aa530c131",
   "metadata": {
    "tags": []
   },
   "outputs": [
    {
     "name": "stdout",
     "output_type": "stream",
     "text": [
      "Unexpected error, traceback: \u001b[36mray::ServeReplica:default:SentimentAnalysisDeployment.handle_request_with_rejection()\u001b[39m (pid=5184, ip=10.131.1.234)\n",
      "  File \"/opt/app-root/lib64/python3.9/site-packages/ray/serve/_private/utils.py\", line 168, in wrap_to_ray_error\n",
      "    raise exception\n",
      "  File \"/opt/app-root/lib64/python3.9/site-packages/ray/serve/_private/replica.py\", line 1132, in call_user_method\n",
      "    await self._call_func_or_gen(\n",
      "  File \"/opt/app-root/lib64/python3.9/site-packages/ray/serve/_private/replica.py\", line 854, in _call_func_or_gen\n",
      "    result = callable(*args, **kwargs)\n",
      "  File \"/tmp/ipykernel_2275/2028677790.py\", line 17, in __call__\n",
      "  File \"/opt/app-root/lib64/python3.9/site-packages/starlette/datastructures.py\", line 305, in __getitem__\n",
      "    return self._dict[key]\n",
      "KeyError: 'text'.\n"
     ]
    }
   ],
   "source": [
    "# File name: model_client.py\n",
    "import requests\n",
    "\n",
    "english_text = \"Hello world!\"\n",
    "\n",
    "response = requests.post(\"http://127.0.0.1:8000/\", json=english_text)\n",
    "french_text = response.text\n",
    "\n",
    "print(french_text)"
   ]
  },
  {
   "cell_type": "code",
   "execution_count": 5,
   "id": "9a3385d8-a611-4fcd-b3bf-509dabc176a6",
   "metadata": {
    "tags": []
   },
   "outputs": [
    {
     "name": "stdout",
     "output_type": "stream",
     "text": [
      "Comment faites-vous!\n"
     ]
    }
   ],
   "source": [
    "# File name: model_client.py\n",
    "import requests\n",
    "\n",
    "english_text = \"How are you doing!\"\n",
    "\n",
    "response = requests.post(\"http://127.0.0.1:8000/\", json=english_text)\n",
    "french_text = response.text\n",
    "\n",
    "print(french_text)"
   ]
  },
  {
   "cell_type": "code",
   "execution_count": 3,
   "id": "e348ec2b-29b0-4ab4-a287-af96136a7efb",
   "metadata": {
    "tags": []
   },
   "outputs": [
    {
     "name": "stdout",
     "output_type": "stream",
     "text": [
      "c'était le meilleur des temps, c'était le pire des temps .\n"
     ]
    }
   ],
   "source": [
    "# File name: composed_client.py\n",
    "import requests\n",
    "\n",
    "english_text = (\n",
    "    \"It was the best of times, it was the worst of times, it was the age \"\n",
    "    \"of wisdom, it was the age of foolishness, it was the epoch of belief\"\n",
    ")\n",
    "response = requests.post(\"http://127.0.0.1:8000/\", json=english_text)\n",
    "french_text = response.text\n",
    "\n",
    "print(french_text)"
   ]
  },
  {
   "cell_type": "code",
   "execution_count": null,
   "id": "fc3c005c-7ce7-4228-9e80-3be50857c645",
   "metadata": {},
   "outputs": [],
   "source": []
  }
 ],
 "metadata": {
  "kernelspec": {
   "display_name": "Python 3.9",
   "language": "python",
   "name": "python3"
  },
  "language_info": {
   "codemirror_mode": {
    "name": "ipython",
    "version": 3
   },
   "file_extension": ".py",
   "mimetype": "text/x-python",
   "name": "python",
   "nbconvert_exporter": "python",
   "pygments_lexer": "ipython3",
   "version": "3.9.16"
  }
 },
 "nbformat": 4,
 "nbformat_minor": 5
}
