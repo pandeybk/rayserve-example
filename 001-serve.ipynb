{
 "cells": [
  {
   "cell_type": "code",
   "execution_count": 1,
   "id": "bd09d910-0a73-41e2-99ca-50a9685c2b81",
   "metadata": {
    "tags": []
   },
   "outputs": [
    {
     "name": "stdout",
     "output_type": "stream",
     "text": [
      "Requirement already satisfied: ray[serve] in /opt/app-root/lib/python3.9/site-packages (2.20.0)\n",
      "Requirement already satisfied: transformers in /opt/app-root/lib/python3.9/site-packages (4.42.4)\n",
      "Requirement already satisfied: requests in /opt/app-root/lib/python3.9/site-packages (2.32.3)\n",
      "Requirement already satisfied: torch in /opt/app-root/lib/python3.9/site-packages (2.2.2)\n",
      "Requirement already satisfied: filelock in /opt/app-root/lib/python3.9/site-packages (from ray[serve]) (3.15.4)\n",
      "Requirement already satisfied: click>=7.0 in /opt/app-root/lib/python3.9/site-packages (from ray[serve]) (8.1.7)\n",
      "Requirement already satisfied: protobuf!=3.19.5,>=3.15.3 in /opt/app-root/lib/python3.9/site-packages (from ray[serve]) (4.25.3)\n",
      "Requirement already satisfied: frozenlist in /opt/app-root/lib/python3.9/site-packages (from ray[serve]) (1.4.1)\n",
      "Requirement already satisfied: packaging in /opt/app-root/lib/python3.9/site-packages (from ray[serve]) (24.1)\n",
      "Requirement already satisfied: pyyaml in /opt/app-root/lib/python3.9/site-packages (from ray[serve]) (6.0.1)\n",
      "Requirement already satisfied: jsonschema in /opt/app-root/lib/python3.9/site-packages (from ray[serve]) (4.22.0)\n",
      "Requirement already satisfied: msgpack<2.0.0,>=1.0.0 in /opt/app-root/lib/python3.9/site-packages (from ray[serve]) (1.0.8)\n",
      "Requirement already satisfied: aiosignal in /opt/app-root/lib/python3.9/site-packages (from ray[serve]) (1.3.1)\n",
      "Requirement already satisfied: uvicorn[standard] in /opt/app-root/lib/python3.9/site-packages (from ray[serve]) (0.30.1)\n",
      "Requirement already satisfied: pydantic!=2.0.*,!=2.1.*,!=2.2.*,!=2.3.*,!=2.4.*,<3 in /opt/app-root/lib/python3.9/site-packages (from ray[serve]) (1.10.17)\n",
      "Requirement already satisfied: aiohttp-cors in /opt/app-root/lib/python3.9/site-packages (from ray[serve]) (0.7.0)\n",
      "Requirement already satisfied: smart-open in /opt/app-root/lib/python3.9/site-packages (from ray[serve]) (7.0.4)\n",
      "Requirement already satisfied: colorful in /opt/app-root/lib/python3.9/site-packages (from ray[serve]) (0.5.6)\n",
      "Requirement already satisfied: fastapi in /opt/app-root/lib/python3.9/site-packages (from ray[serve]) (0.111.1)\n",
      "Requirement already satisfied: aiohttp>=3.7 in /opt/app-root/lib/python3.9/site-packages (from ray[serve]) (3.9.5)\n",
      "Requirement already satisfied: starlette in /opt/app-root/lib/python3.9/site-packages (from ray[serve]) (0.37.2)\n",
      "Requirement already satisfied: py-spy>=0.2.0 in /opt/app-root/lib/python3.9/site-packages (from ray[serve]) (0.3.14)\n",
      "Requirement already satisfied: grpcio>=1.32.0 in /opt/app-root/lib/python3.9/site-packages (from ray[serve]) (1.64.1)\n",
      "Requirement already satisfied: virtualenv!=20.21.1,>=20.0.24 in /opt/app-root/lib/python3.9/site-packages (from ray[serve]) (20.26.3)\n",
      "Requirement already satisfied: watchfiles in /opt/app-root/lib/python3.9/site-packages (from ray[serve]) (0.22.0)\n",
      "Requirement already satisfied: prometheus-client>=0.7.1 in /opt/app-root/lib/python3.9/site-packages (from ray[serve]) (0.20.0)\n",
      "Requirement already satisfied: memray in /opt/app-root/lib/python3.9/site-packages (from ray[serve]) (1.10.0)\n",
      "Requirement already satisfied: opencensus in /opt/app-root/lib/python3.9/site-packages (from ray[serve]) (0.11.4)\n",
      "Requirement already satisfied: tokenizers<0.20,>=0.19 in /opt/app-root/lib/python3.9/site-packages (from transformers) (0.19.1)\n",
      "Requirement already satisfied: safetensors>=0.4.1 in /opt/app-root/lib/python3.9/site-packages (from transformers) (0.4.3)\n",
      "Requirement already satisfied: tqdm>=4.27 in /opt/app-root/lib/python3.9/site-packages (from transformers) (4.66.4)\n",
      "Requirement already satisfied: huggingface-hub<1.0,>=0.23.2 in /opt/app-root/lib/python3.9/site-packages (from transformers) (0.23.5)\n",
      "Requirement already satisfied: numpy<2.0,>=1.17 in /opt/app-root/lib/python3.9/site-packages (from transformers) (1.26.4)\n",
      "Requirement already satisfied: regex!=2019.12.17 in /opt/app-root/lib/python3.9/site-packages (from transformers) (2024.5.15)\n",
      "Requirement already satisfied: certifi>=2017.4.17 in /opt/app-root/lib/python3.9/site-packages (from requests) (2024.6.2)\n",
      "Requirement already satisfied: urllib3<3,>=1.21.1 in /opt/app-root/lib/python3.9/site-packages (from requests) (1.26.19)\n",
      "Requirement already satisfied: idna<4,>=2.5 in /opt/app-root/lib/python3.9/site-packages (from requests) (3.7)\n",
      "Requirement already satisfied: charset-normalizer<4,>=2 in /opt/app-root/lib/python3.9/site-packages (from requests) (3.3.2)\n",
      "Requirement already satisfied: nvidia-cuda-runtime-cu12==12.1.105 in /opt/app-root/lib/python3.9/site-packages (from torch) (12.1.105)\n",
      "Requirement already satisfied: nvidia-cufft-cu12==11.0.2.54 in /opt/app-root/lib/python3.9/site-packages (from torch) (11.0.2.54)\n",
      "Requirement already satisfied: nvidia-cusolver-cu12==11.4.5.107 in /opt/app-root/lib/python3.9/site-packages (from torch) (11.4.5.107)\n",
      "Requirement already satisfied: nvidia-cusparse-cu12==12.1.0.106 in /opt/app-root/lib/python3.9/site-packages (from torch) (12.1.0.106)\n",
      "Requirement already satisfied: nvidia-nccl-cu12==2.19.3 in /opt/app-root/lib/python3.9/site-packages (from torch) (2.19.3)\n",
      "Requirement already satisfied: nvidia-cudnn-cu12==8.9.2.26 in /opt/app-root/lib/python3.9/site-packages (from torch) (8.9.2.26)\n",
      "Requirement already satisfied: nvidia-cublas-cu12==12.1.3.1 in /opt/app-root/lib/python3.9/site-packages (from torch) (12.1.3.1)\n",
      "Requirement already satisfied: nvidia-nvtx-cu12==12.1.105 in /opt/app-root/lib/python3.9/site-packages (from torch) (12.1.105)\n",
      "Requirement already satisfied: networkx in /opt/app-root/lib/python3.9/site-packages (from torch) (3.2.1)\n",
      "Requirement already satisfied: triton==2.2.0 in /opt/app-root/lib/python3.9/site-packages (from torch) (2.2.0)\n",
      "Requirement already satisfied: jinja2 in /opt/app-root/lib/python3.9/site-packages (from torch) (3.1.4)\n",
      "Requirement already satisfied: sympy in /opt/app-root/lib/python3.9/site-packages (from torch) (1.13.0)\n",
      "Requirement already satisfied: nvidia-cuda-nvrtc-cu12==12.1.105 in /opt/app-root/lib/python3.9/site-packages (from torch) (12.1.105)\n",
      "Requirement already satisfied: nvidia-cuda-cupti-cu12==12.1.105 in /opt/app-root/lib/python3.9/site-packages (from torch) (12.1.105)\n",
      "Requirement already satisfied: fsspec in /opt/app-root/lib/python3.9/site-packages (from torch) (2024.6.1)\n",
      "Requirement already satisfied: typing-extensions>=4.8.0 in /opt/app-root/lib/python3.9/site-packages (from torch) (4.12.2)\n",
      "Requirement already satisfied: nvidia-curand-cu12==10.3.2.106 in /opt/app-root/lib/python3.9/site-packages (from torch) (10.3.2.106)\n",
      "Requirement already satisfied: nvidia-nvjitlink-cu12 in /opt/app-root/lib/python3.9/site-packages (from nvidia-cusolver-cu12==11.4.5.107->torch) (12.5.82)\n",
      "Requirement already satisfied: async-timeout<5.0,>=4.0 in /opt/app-root/lib/python3.9/site-packages (from aiohttp>=3.7->ray[serve]) (4.0.3)\n",
      "Requirement already satisfied: attrs>=17.3.0 in /opt/app-root/lib/python3.9/site-packages (from aiohttp>=3.7->ray[serve]) (23.2.0)\n",
      "Requirement already satisfied: multidict<7.0,>=4.5 in /opt/app-root/lib/python3.9/site-packages (from aiohttp>=3.7->ray[serve]) (6.0.5)\n",
      "Requirement already satisfied: yarl<2.0,>=1.0 in /opt/app-root/lib/python3.9/site-packages (from aiohttp>=3.7->ray[serve]) (1.9.4)\n",
      "Requirement already satisfied: platformdirs<5,>=3.9.1 in /opt/app-root/lib/python3.9/site-packages (from virtualenv!=20.21.1,>=20.0.24->ray[serve]) (4.2.2)\n",
      "Requirement already satisfied: distlib<1,>=0.3.7 in /opt/app-root/lib/python3.9/site-packages (from virtualenv!=20.21.1,>=20.0.24->ray[serve]) (0.3.8)\n",
      "Requirement already satisfied: email_validator>=2.0.0 in /opt/app-root/lib/python3.9/site-packages (from fastapi->ray[serve]) (2.2.0)\n",
      "Requirement already satisfied: httpx>=0.23.0 in /opt/app-root/lib/python3.9/site-packages (from fastapi->ray[serve]) (0.27.0)\n",
      "Requirement already satisfied: fastapi-cli>=0.0.2 in /opt/app-root/lib/python3.9/site-packages (from fastapi->ray[serve]) (0.0.4)\n",
      "Requirement already satisfied: python-multipart>=0.0.7 in /opt/app-root/lib/python3.9/site-packages (from fastapi->ray[serve]) (0.0.9)\n",
      "Requirement already satisfied: MarkupSafe>=2.0 in /opt/app-root/lib/python3.9/site-packages (from jinja2->torch) (2.1.5)\n",
      "Requirement already satisfied: anyio<5,>=3.4.0 in /opt/app-root/lib/python3.9/site-packages (from starlette->ray[serve]) (4.4.0)\n",
      "Requirement already satisfied: h11>=0.8 in /opt/app-root/lib/python3.9/site-packages (from uvicorn[standard]->ray[serve]) (0.14.0)\n",
      "Requirement already satisfied: httptools>=0.5.0 in /opt/app-root/lib/python3.9/site-packages (from uvicorn[standard]->ray[serve]) (0.6.1)\n",
      "Requirement already satisfied: uvloop!=0.15.0,!=0.15.1,>=0.14.0 in /opt/app-root/lib/python3.9/site-packages (from uvicorn[standard]->ray[serve]) (0.19.0)\n",
      "Requirement already satisfied: python-dotenv>=0.13 in /opt/app-root/lib/python3.9/site-packages (from uvicorn[standard]->ray[serve]) (1.0.1)\n",
      "Requirement already satisfied: websockets>=10.4 in /opt/app-root/lib/python3.9/site-packages (from uvicorn[standard]->ray[serve]) (12.0)\n",
      "Requirement already satisfied: referencing>=0.28.4 in /opt/app-root/lib/python3.9/site-packages (from jsonschema->ray[serve]) (0.35.1)\n",
      "Requirement already satisfied: jsonschema-specifications>=2023.03.6 in /opt/app-root/lib/python3.9/site-packages (from jsonschema->ray[serve]) (2023.12.1)\n",
      "Requirement already satisfied: rpds-py>=0.7.1 in /opt/app-root/lib/python3.9/site-packages (from jsonschema->ray[serve]) (0.18.1)\n",
      "Requirement already satisfied: rich>=11.2.0 in /opt/app-root/lib/python3.9/site-packages (from memray->ray[serve]) (12.6.0)\n",
      "Requirement already satisfied: opencensus-context>=0.1.3 in /opt/app-root/lib/python3.9/site-packages (from opencensus->ray[serve]) (0.1.3)\n",
      "Requirement already satisfied: google-api-core<3.0.0,>=1.0.0 in /opt/app-root/lib/python3.9/site-packages (from opencensus->ray[serve]) (2.19.1)\n",
      "Requirement already satisfied: six~=1.16 in /opt/app-root/lib/python3.9/site-packages (from opencensus->ray[serve]) (1.16.0)\n",
      "Requirement already satisfied: wrapt in /opt/app-root/lib/python3.9/site-packages (from smart-open->ray[serve]) (1.16.0)\n",
      "Requirement already satisfied: mpmath<1.4,>=1.1.0 in /opt/app-root/lib/python3.9/site-packages (from sympy->torch) (1.3.0)\n",
      "Requirement already satisfied: sniffio>=1.1 in /opt/app-root/lib/python3.9/site-packages (from anyio<5,>=3.4.0->starlette->ray[serve]) (1.3.1)\n",
      "Requirement already satisfied: exceptiongroup>=1.0.2 in /opt/app-root/lib/python3.9/site-packages (from anyio<5,>=3.4.0->starlette->ray[serve]) (1.2.1)\n",
      "Requirement already satisfied: dnspython>=2.0.0 in /opt/app-root/lib/python3.9/site-packages (from email_validator>=2.0.0->fastapi->ray[serve]) (2.6.1)\n",
      "Requirement already satisfied: typer>=0.12.3 in /opt/app-root/lib/python3.9/site-packages (from fastapi-cli>=0.0.2->fastapi->ray[serve]) (0.12.3)\n",
      "Requirement already satisfied: proto-plus<2.0.0dev,>=1.22.3 in /opt/app-root/lib/python3.9/site-packages (from google-api-core<3.0.0,>=1.0.0->opencensus->ray[serve]) (1.24.0)\n",
      "Requirement already satisfied: google-auth<3.0.dev0,>=2.14.1 in /opt/app-root/lib/python3.9/site-packages (from google-api-core<3.0.0,>=1.0.0->opencensus->ray[serve]) (2.30.0)\n",
      "Requirement already satisfied: googleapis-common-protos<2.0.dev0,>=1.56.2 in /opt/app-root/lib/python3.9/site-packages (from google-api-core<3.0.0,>=1.0.0->opencensus->ray[serve]) (1.63.2)\n",
      "Requirement already satisfied: httpcore==1.* in /opt/app-root/lib/python3.9/site-packages (from httpx>=0.23.0->fastapi->ray[serve]) (1.0.5)\n",
      "Requirement already satisfied: pygments<3.0.0,>=2.6.0 in /opt/app-root/lib/python3.9/site-packages (from rich>=11.2.0->memray->ray[serve]) (2.18.0)\n",
      "Requirement already satisfied: commonmark<0.10.0,>=0.9.0 in /opt/app-root/lib/python3.9/site-packages (from rich>=11.2.0->memray->ray[serve]) (0.9.1)\n",
      "Requirement already satisfied: rsa<5,>=3.1.4 in /opt/app-root/lib/python3.9/site-packages (from google-auth<3.0.dev0,>=2.14.1->google-api-core<3.0.0,>=1.0.0->opencensus->ray[serve]) (4.9)\n",
      "Requirement already satisfied: pyasn1-modules>=0.2.1 in /opt/app-root/lib/python3.9/site-packages (from google-auth<3.0.dev0,>=2.14.1->google-api-core<3.0.0,>=1.0.0->opencensus->ray[serve]) (0.4.0)\n",
      "Requirement already satisfied: cachetools<6.0,>=2.0.0 in /opt/app-root/lib/python3.9/site-packages (from google-auth<3.0.dev0,>=2.14.1->google-api-core<3.0.0,>=1.0.0->opencensus->ray[serve]) (5.3.3)\n",
      "Requirement already satisfied: shellingham>=1.3.0 in /opt/app-root/lib/python3.9/site-packages (from typer>=0.12.3->fastapi-cli>=0.0.2->fastapi->ray[serve]) (1.5.4)\n",
      "Requirement already satisfied: pyasn1<0.7.0,>=0.4.6 in /opt/app-root/lib/python3.9/site-packages (from pyasn1-modules>=0.2.1->google-auth<3.0.dev0,>=2.14.1->google-api-core<3.0.0,>=1.0.0->opencensus->ray[serve]) (0.6.0)\n",
      "\n",
      "\u001b[1m[\u001b[0m\u001b[34;49mnotice\u001b[0m\u001b[1;39;49m]\u001b[0m\u001b[39;49m A new release of pip available: \u001b[0m\u001b[31;49m22.2.2\u001b[0m\u001b[39;49m -> \u001b[0m\u001b[32;49m24.1.2\u001b[0m\n",
      "\u001b[1m[\u001b[0m\u001b[34;49mnotice\u001b[0m\u001b[1;39;49m]\u001b[0m\u001b[39;49m To update, run: \u001b[0m\u001b[32;49mpip install --upgrade pip\u001b[0m\n",
      "Note: you may need to restart the kernel to use updated packages.\n"
     ]
    }
   ],
   "source": [
    "pip install \"ray[serve]\" transformers requests torch"
   ]
  },
  {
   "cell_type": "code",
   "execution_count": 2,
   "id": "f905bf37-d656-416a-b00d-121f8c0b1440",
   "metadata": {
    "tags": []
   },
   "outputs": [
    {
     "name": "stdout",
     "output_type": "stream",
     "text": [
      "Bonjour monde!\n"
     ]
    }
   ],
   "source": [
    "# File name: model.py\n",
    "from transformers import pipeline\n",
    "\n",
    "\n",
    "class Translator:\n",
    "    def __init__(self):\n",
    "        # Load model\n",
    "        self.model = pipeline(\"translation_en_to_fr\", model=\"t5-small\")\n",
    "\n",
    "    def translate(self, text: str) -> str:\n",
    "        # Run inference\n",
    "        model_output = self.model(text)\n",
    "\n",
    "        # Post-process output to return only the translation text\n",
    "        translation = model_output[0][\"translation_text\"]\n",
    "\n",
    "        return translation\n",
    "\n",
    "\n",
    "translator = Translator()\n",
    "\n",
    "translation = translator.translate(\"Hello world!\")\n",
    "print(translation)"
   ]
  },
  {
   "cell_type": "code",
   "execution_count": null,
   "id": "eae81bc2-a106-4c5a-bcff-7f1bf2398d93",
   "metadata": {},
   "outputs": [],
   "source": []
  }
 ],
 "metadata": {
  "kernelspec": {
   "display_name": "Python 3.9",
   "language": "python",
   "name": "python3"
  },
  "language_info": {
   "codemirror_mode": {
    "name": "ipython",
    "version": 3
   },
   "file_extension": ".py",
   "mimetype": "text/x-python",
   "name": "python",
   "nbconvert_exporter": "python",
   "pygments_lexer": "ipython3",
   "version": "3.9.16"
  }
 },
 "nbformat": 4,
 "nbformat_minor": 5
}
