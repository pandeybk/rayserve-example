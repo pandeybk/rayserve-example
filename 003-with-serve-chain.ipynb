{
 "cells": [
  {
   "cell_type": "markdown",
   "id": "4c2a58ad-4305-4aa8-bb87-6de9bb797427",
   "metadata": {},
   "source": [
    "## Execute this code in terminal \n",
    "```\n",
    "serve run serve_quickstart_composed:app\n",
    "```"
   ]
  },
  {
   "cell_type": "code",
   "execution_count": 1,
   "id": "1b01a8b6-dd81-482e-8dac-98d77add5292",
   "metadata": {
    "tags": []
   },
   "outputs": [
    {
     "name": "stdout",
     "output_type": "stream",
     "text": [
      "c'était le meilleur des temps, c'était le pire des temps .\n"
     ]
    }
   ],
   "source": [
    "# File name: composed_client.py\n",
    "import requests\n",
    "\n",
    "english_text = (\n",
    "    \"It was the best of times, it was the worst of times, it was the age \"\n",
    "    \"of wisdom, it was the age of foolishness, it was the epoch of belief\"\n",
    ")\n",
    "response = requests.post(\"http://127.0.0.1:8000/\", json=english_text)\n",
    "french_text = response.text\n",
    "\n",
    "print(french_text)"
   ]
  },
  {
   "cell_type": "code",
   "execution_count": null,
   "id": "9dce3b25-87f4-431e-a520-0360a0e90bba",
   "metadata": {},
   "outputs": [],
   "source": []
  }
 ],
 "metadata": {
  "kernelspec": {
   "display_name": "Python 3.9",
   "language": "python",
   "name": "python3"
  },
  "language_info": {
   "codemirror_mode": {
    "name": "ipython",
    "version": 3
   },
   "file_extension": ".py",
   "mimetype": "text/x-python",
   "name": "python",
   "nbconvert_exporter": "python",
   "pygments_lexer": "ipython3",
   "version": "3.9.16"
  }
 },
 "nbformat": 4,
 "nbformat_minor": 5
}
